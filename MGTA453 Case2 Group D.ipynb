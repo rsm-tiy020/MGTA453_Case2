{
 "cells": [
  {
   "cell_type": "markdown",
   "metadata": {},
   "source": [
    "Flat Rate Pricing"
   ]
  },
  {
   "cell_type": "markdown",
   "metadata": {},
   "source": [
    "The Sales.csv dataset contains information about the four conditions (FR, FR Charity, NYOP, and NYOP Charity) along with the number of photos sold, the number of riders, and merchandise revenues for each day."
   ]
  },
  {
   "cell_type": "code",
   "execution_count": 38,
   "metadata": {},
   "outputs": [
    {
     "data": {
      "text/html": [
       "<div>\n",
       "<style scoped>\n",
       "    .dataframe tbody tr th:only-of-type {\n",
       "        vertical-align: middle;\n",
       "    }\n",
       "\n",
       "    .dataframe tbody tr th {\n",
       "        vertical-align: top;\n",
       "    }\n",
       "\n",
       "    .dataframe thead th {\n",
       "        text-align: right;\n",
       "    }\n",
       "</style>\n",
       "<table border=\"1\" class=\"dataframe\">\n",
       "  <thead>\n",
       "    <tr style=\"text-align: right;\">\n",
       "      <th></th>\n",
       "      <th>Condition</th>\n",
       "      <th>NumberSold</th>\n",
       "      <th>Riders</th>\n",
       "      <th>MerchandiseRevenues</th>\n",
       "    </tr>\n",
       "  </thead>\n",
       "  <tbody>\n",
       "    <tr>\n",
       "      <th>0</th>\n",
       "      <td>FR</td>\n",
       "      <td>77</td>\n",
       "      <td>12663</td>\n",
       "      <td>4592.41</td>\n",
       "    </tr>\n",
       "    <tr>\n",
       "      <th>1</th>\n",
       "      <td>FR</td>\n",
       "      <td>63</td>\n",
       "      <td>15561</td>\n",
       "      <td>6688.57</td>\n",
       "    </tr>\n",
       "    <tr>\n",
       "      <th>2</th>\n",
       "      <td>FR Charity</td>\n",
       "      <td>79</td>\n",
       "      <td>14796</td>\n",
       "      <td>6476.78</td>\n",
       "    </tr>\n",
       "    <tr>\n",
       "      <th>3</th>\n",
       "      <td>FR Charity</td>\n",
       "      <td>101</td>\n",
       "      <td>15796</td>\n",
       "      <td>5845.94</td>\n",
       "    </tr>\n",
       "    <tr>\n",
       "      <th>4</th>\n",
       "      <td>NYOP</td>\n",
       "      <td>1137</td>\n",
       "      <td>14077</td>\n",
       "      <td>4845.27</td>\n",
       "    </tr>\n",
       "  </tbody>\n",
       "</table>\n",
       "</div>"
      ],
      "text/plain": [
       "    Condition  NumberSold  Riders  MerchandiseRevenues\n",
       "0          FR          77   12663              4592.41\n",
       "1          FR          63   15561              6688.57\n",
       "2  FR Charity          79   14796              6476.78\n",
       "3  FR Charity         101   15796              5845.94\n",
       "4        NYOP        1137   14077              4845.27"
      ]
     },
     "execution_count": 38,
     "metadata": {},
     "output_type": "execute_result"
    }
   ],
   "source": [
    "import pandas as pd\n",
    "\n",
    "# Load the Sales.csv dataset\n",
    "sales_data = pd.read_csv(\"Sales.csv\")\n",
    "\n",
    "# Display the first few rows of the dataset\n",
    "sales_data.head()\n"
   ]
  },
  {
   "cell_type": "markdown",
   "metadata": {},
   "source": [
    "Flat Rate Pricing\n",
    "\n",
    "\n",
    "a) When considering the two flat-rate pricing conditions, FR and FR Charity, is there a difference between the proportion of purchases?\n",
    "\n",
    "The null and alternative hypotheses for comparing the proportions of purchases between the two flat-rate pricing conditions are as follows:\n",
    "\n",
    "Ho: p1 = p2 (There is no difference between the proportion of purchases for FR and FR Charity)\n",
    "Ha: p1 ≠ p2 (There is a difference between the proportion of purchases for FR and FR Charity)\n",
    "\n",
    "Where p1 is the proportion of purchases for the FR condition and p2 is the proportion of purchases for the FR Charity condition."
   ]
  },
  {
   "cell_type": "code",
   "execution_count": 39,
   "metadata": {},
   "outputs": [
    {
     "data": {
      "text/plain": [
       "(0.00496031746031746, 0.005883891213389121)"
      ]
     },
     "execution_count": 39,
     "metadata": {},
     "output_type": "execute_result"
    }
   ],
   "source": [
    "# Filter the data for the two conditions of interest: FR and FR Charity\n",
    "fr_data = sales_data[sales_data['Condition'] == 'FR']\n",
    "fr_charity_data = sales_data[sales_data['Condition'] == 'FR Charity']\n",
    "\n",
    "# Calculate the proportions of purchases for each condition\n",
    "p1 = fr_data['NumberSold'].sum() / fr_data['Riders'].sum()\n",
    "p2 = fr_charity_data['NumberSold'].sum() / fr_charity_data['Riders'].sum()\n",
    "\n",
    "p1, p2"
   ]
  },
  {
   "cell_type": "markdown",
   "metadata": {},
   "source": [
    "The calculated proportions for the two flat-rate pricing conditions are:\n",
    "For the FR condition: p1 ≈ 0.00496 or 0.496%\n",
    "For the FR Charity condition: p2 ≈0.00588 or 0.588%"
   ]
  },
  {
   "cell_type": "markdown",
   "metadata": {},
   "source": []
  },
  {
   "cell_type": "markdown",
   "metadata": {},
   "source": [
    "b. The appropriate test statistic for the difference between two population proportions is given by p¯1−p¯2p¯1(1−p¯1)n1+p¯2(1−p¯2)n2√\n",
    "  \n",
    "With the large number of samples, you can go ahead and assume the sampling distribution is normally distributed. Is the difference significant at the 5% level?\n",
    "\n",
    "To determine this, we need to:\n",
    "1. Compute the test statistic.\n",
    "2. Determine the critical value for a two-tailed test at the 5% significance level (since our alternative hypothesis is p1 ≠ p2).\n",
    "3. Compare the test statistic to the critical value."
   ]
  },
  {
   "cell_type": "code",
   "execution_count": 40,
   "metadata": {},
   "outputs": [
    {
     "data": {
      "text/plain": [
       "(-1.5264554280529021, False)"
      ]
     },
     "execution_count": 40,
     "metadata": {},
     "output_type": "execute_result"
    }
   ],
   "source": [
    "import math\n",
    "\n",
    "# Calculate the sample sizes for both conditions\n",
    "n1 = fr_data['Riders'].sum()\n",
    "n2 = fr_charity_data['Riders'].sum()\n",
    "\n",
    "# Calculate the test statistic\n",
    "test_statistic = (p1 - p2) / math.sqrt((p1 * (1 - p1) / n1) + (p2 * (1 - p2) / n2))\n",
    "\n",
    "# Assuming normal distribution, the critical value for a two-tailed test at the 5% significance level is approximately 1.96\n",
    "critical_value = 1.96\n",
    "\n",
    "test_statistic, abs(test_statistic) > critical_value\n"
   ]
  },
  {
   "cell_type": "markdown",
   "metadata": {},
   "source": [
    "The computed test statistic for the difference in proportions between the two flat-rate pricing conditions is approximately −1.53.\n",
    "\n",
    "For a two-tailed test at the 5% significance level, the critical value is 1.96. Given that the absolute value of our test statistic (1.53) is less than the critical value (1.96), we fail to reject the null hypothesis.\n",
    "\n",
    "This means that at the 5% significance level, we do not have enough evidence to suggest a significant difference in the proportions of purchases between the FR and FR Charity conditions.\n",
    "\n"
   ]
  },
  {
   "cell_type": "markdown",
   "metadata": {},
   "source": []
  },
  {
   "cell_type": "markdown",
   "metadata": {},
   "source": [
    "c. What is the p-value associated with the test statistic?\n",
    "\n",
    "The p-value is the probability of observing a test statistic as extreme as, or more extreme than, the one computed given that the null hypothesis is true. To determine the p-value, we'll use the standard normal distribution, since we are assuming the sampling distribution is normally distributed. We'll find the two-tailed p-value."
   ]
  },
  {
   "cell_type": "code",
   "execution_count": 41,
   "metadata": {},
   "outputs": [
    {
     "data": {
      "text/plain": [
       "0.12689648269385967"
      ]
     },
     "execution_count": 41,
     "metadata": {},
     "output_type": "execute_result"
    }
   ],
   "source": [
    "from scipy.stats import norm\n",
    "\n",
    "# Calculate the p-value for the test statistic (two-tailed)\n",
    "p_value = 2 * (1 - norm.cdf(abs(test_statistic)))\n",
    "\n",
    "p_value\n"
   ]
  },
  {
   "cell_type": "markdown",
   "metadata": {},
   "source": [
    "The associated p-value for the test statistic is approximately 0.1269."
   ]
  },
  {
   "cell_type": "markdown",
   "metadata": {},
   "source": []
  },
  {
   "cell_type": "markdown",
   "metadata": {},
   "source": [
    "d. Interpret what this p-value means.\n",
    "\n",
    "The p-value of 0.1269 is greater than the significance level of 0.05. This means that, assuming the null hypothesis is true (i.e., there is no difference between the proportion of purchases for FR and FR Charity), there is a 12.69% chance of observing a difference in proportions as extreme as, or more extreme than, what was observed in the sample data. Since this probability is relatively high and exceeds the 5% threshold, we do not have sufficient evidence to reject the null hypothesis. In other words, based on the data provided, there isn't a statistically significant difference in the proportions of purchases between the FR and FR Charity conditions."
   ]
  },
  {
   "cell_type": "markdown",
   "metadata": {},
   "source": []
  },
  {
   "cell_type": "code",
   "execution_count": 42,
   "metadata": {},
   "outputs": [
    {
     "data": {
      "text/plain": [
       "(0.08385521706825178, 0.04067143019167517)"
      ]
     },
     "execution_count": 42,
     "metadata": {},
     "output_type": "execute_result"
    }
   ],
   "source": [
    "# FOr NYOP\n",
    "# Filter the data for the two conditions of interest: FR and FR Charity\n",
    "nyop_data = sales_data[sales_data['Condition'] == 'NYOP']\n",
    "nyop_charity_data = sales_data[sales_data['Condition'] == 'NYOP Charity']\n",
    "\n",
    "# Calculate the proportions of purchases for each condition\n",
    "p3 = nyop_data['NumberSold'].sum() / nyop_data['Riders'].sum()\n",
    "p4 = nyop_charity_data['NumberSold'].sum() / nyop_charity_data['Riders'].sum()\n",
    "\n",
    "p3, p4"
   ]
  },
  {
   "cell_type": "markdown",
   "metadata": {},
   "source": [
    "The proportion sold for NYOP = 8.4 abd for NYOP charity is 4.06%"
   ]
  },
  {
   "cell_type": "markdown",
   "metadata": {},
   "source": [
    "b. The appropriate test statistic for the difference between two population proportions is given by p¯1−p¯2p¯1(1−p¯1)n1+p¯2(1−p¯2)n2√\n",
    "  \n",
    "With the large number of samples, you can go ahead and assume the sampling distribution is normally distributed. Is the difference significant at the 5% level?\n",
    "\n",
    "To determine this, we need to:\n",
    "1. Compute the test statistic.\n",
    "2. Determine the critical value for a two-tailed test at the 5% significance level (since our alternative hypothesis is p1 ≠ p2).\n",
    "3. Compare the test statistic to the critical value."
   ]
  },
  {
   "cell_type": "code",
   "execution_count": 43,
   "metadata": {},
   "outputs": [
    {
     "data": {
      "text/plain": [
       "(20.446308560982715, True)"
      ]
     },
     "execution_count": 43,
     "metadata": {},
     "output_type": "execute_result"
    }
   ],
   "source": [
    "import math\n",
    "\n",
    "# Calculate the sample sizes for both conditions\n",
    "n1 = nyop_data['Riders'].sum()\n",
    "n2 = nyop_charity_data['Riders'].sum()\n",
    "\n",
    "# Calculate the test statistic\n",
    "test_statistic2 = (p3 - p4) / math.sqrt((p3 * (1 - p3) / n1) + (p3 * (1 - p3) / n2))\n",
    "\n",
    "# Assuming normal distribution, the critical value for a two-tailed test at the 5% significance level is approximately 1.96\n",
    "critical_value = 1.96\n",
    "\n",
    "test_statistic2, abs(test_statistic2) > critical_value\n"
   ]
  },
  {
   "cell_type": "markdown",
   "metadata": {},
   "source": [
    "The computed test statistic for the difference in proportions between the two flat-rate pricing conditions is approximately 20.5.\n",
    "\n",
    "For a two-tailed test at the 5% significance level, the critical value is 1.96. Given that the absolute value of our test statistic (20.5) is greater than the critical value (1.96), we reject the null hypothesis.\n",
    "\n",
    "This means that at the 5% significance level, we  have enough evidence to suggest a significant difference in the proportions of purchases between the NYOP and NYOP Charity conditions.\n",
    "\n"
   ]
  },
  {
   "cell_type": "code",
   "execution_count": 44,
   "metadata": {},
   "outputs": [
    {
     "data": {
      "text/plain": [
       "0.0"
      ]
     },
     "execution_count": 44,
     "metadata": {},
     "output_type": "execute_result"
    }
   ],
   "source": [
    "from scipy.stats import norm\n",
    "\n",
    "# Calculate the p-value for the test statistic (two-tailed)\n",
    "p_value = 2 * (1 - norm.cdf(abs(test_statistic2)))\n",
    "\n",
    "p_value"
   ]
  },
  {
   "cell_type": "markdown",
   "metadata": {},
   "source": [
    "The associated P value is  close to 0. In simpler terms, the addition of the charity component to the NYOP pricing significantly reduced the proportion of riders choosing to purchase the photos."
   ]
  },
  {
   "cell_type": "markdown",
   "metadata": {},
   "source": [
    "NYOP Pricing"
   ]
  },
  {
   "cell_type": "markdown",
   "metadata": {},
   "source": [
    "a. Load “NYOP.csv”. Create a variable called UnitPrice which takes the variable, Price, and divides it by Number. After doing so, next change the type of the variable, Number, to a factor variable."
   ]
  },
  {
   "cell_type": "code",
   "execution_count": 45,
   "metadata": {},
   "outputs": [
    {
     "data": {
      "text/html": [
       "<div>\n",
       "<style scoped>\n",
       "    .dataframe tbody tr th:only-of-type {\n",
       "        vertical-align: middle;\n",
       "    }\n",
       "\n",
       "    .dataframe tbody tr th {\n",
       "        vertical-align: top;\n",
       "    }\n",
       "\n",
       "    .dataframe thead th {\n",
       "        text-align: right;\n",
       "    }\n",
       "</style>\n",
       "<table border=\"1\" class=\"dataframe\">\n",
       "  <thead>\n",
       "    <tr style=\"text-align: right;\">\n",
       "      <th></th>\n",
       "      <th>Condition</th>\n",
       "      <th>Number</th>\n",
       "      <th>Price</th>\n",
       "      <th>UnitPrice</th>\n",
       "    </tr>\n",
       "  </thead>\n",
       "  <tbody>\n",
       "    <tr>\n",
       "      <th>0</th>\n",
       "      <td>NYOP</td>\n",
       "      <td>1</td>\n",
       "      <td>1.00</td>\n",
       "      <td>1.00</td>\n",
       "    </tr>\n",
       "    <tr>\n",
       "      <th>1</th>\n",
       "      <td>NYOP</td>\n",
       "      <td>1</td>\n",
       "      <td>1.00</td>\n",
       "      <td>1.00</td>\n",
       "    </tr>\n",
       "    <tr>\n",
       "      <th>2</th>\n",
       "      <td>NYOP</td>\n",
       "      <td>1</td>\n",
       "      <td>0.01</td>\n",
       "      <td>0.01</td>\n",
       "    </tr>\n",
       "    <tr>\n",
       "      <th>3</th>\n",
       "      <td>NYOP</td>\n",
       "      <td>1</td>\n",
       "      <td>0.10</td>\n",
       "      <td>0.10</td>\n",
       "    </tr>\n",
       "    <tr>\n",
       "      <th>4</th>\n",
       "      <td>NYOP</td>\n",
       "      <td>1</td>\n",
       "      <td>0.01</td>\n",
       "      <td>0.01</td>\n",
       "    </tr>\n",
       "  </tbody>\n",
       "</table>\n",
       "</div>"
      ],
      "text/plain": [
       "  Condition Number  Price  UnitPrice\n",
       "0      NYOP      1   1.00       1.00\n",
       "1      NYOP      1   1.00       1.00\n",
       "2      NYOP      1   0.01       0.01\n",
       "3      NYOP      1   0.10       0.10\n",
       "4      NYOP      1   0.01       0.01"
      ]
     },
     "execution_count": 45,
     "metadata": {},
     "output_type": "execute_result"
    }
   ],
   "source": [
    "# Load the NYOP.csv dataset\n",
    "nyop_data = pd.read_csv('NYOP.csv')\n",
    "\n",
    "# Create the UnitPrice variable\n",
    "nyop_data['UnitPrice'] = nyop_data['Price'] / nyop_data['Number']\n",
    "\n",
    "# Change the type of the 'Number' variable to a factor (categorical) variable\n",
    "nyop_data['Number'] = nyop_data['Number'].astype('category')\n",
    "\n",
    "nyop_data.head()\n"
   ]
  },
  {
   "cell_type": "markdown",
   "metadata": {},
   "source": [
    "The \"NYOP.csv\" dataset has been successfully loaded, and the transformations have been applied. The UnitPrice variable has been created, and the type of the Number variable has been changed to a factor (categorical) variable."
   ]
  },
  {
   "cell_type": "markdown",
   "metadata": {},
   "source": []
  },
  {
   "cell_type": "markdown",
   "metadata": {},
   "source": [
    "b. Visualize both Price and UnitPrice against the factor variable, Number, by creating box plots and interpreting them.\n",
    "\n",
    "Let's proceed by creating the box plots for Price and UnitPrice against the Number variable."
   ]
  },
  {
   "cell_type": "code",
   "execution_count": 46,
   "metadata": {},
   "outputs": [
    {
     "name": "stderr",
     "output_type": "stream",
     "text": [
      "/opt/conda/lib/python3.11/site-packages/seaborn/_oldcore.py:1498: FutureWarning: is_categorical_dtype is deprecated and will be removed in a future version. Use isinstance(dtype, CategoricalDtype) instead\n",
      "  if pd.api.types.is_categorical_dtype(vector):\n",
      "/opt/conda/lib/python3.11/site-packages/seaborn/categorical.py:641: FutureWarning: The default of observed=False is deprecated and will be changed to True in a future version of pandas. Pass observed=False to retain current behavior or observed=True to adopt the future default and silence this warning.\n",
      "  grouped_vals = vals.groupby(grouper)\n",
      "/opt/conda/lib/python3.11/site-packages/seaborn/_oldcore.py:1498: FutureWarning: is_categorical_dtype is deprecated and will be removed in a future version. Use isinstance(dtype, CategoricalDtype) instead\n",
      "  if pd.api.types.is_categorical_dtype(vector):\n",
      "/opt/conda/lib/python3.11/site-packages/seaborn/categorical.py:641: FutureWarning: The default of observed=False is deprecated and will be changed to True in a future version of pandas. Pass observed=False to retain current behavior or observed=True to adopt the future default and silence this warning.\n",
      "  grouped_vals = vals.groupby(grouper)\n",
      "/opt/conda/lib/python3.11/site-packages/seaborn/_oldcore.py:1498: FutureWarning: is_categorical_dtype is deprecated and will be removed in a future version. Use isinstance(dtype, CategoricalDtype) instead\n",
      "  if pd.api.types.is_categorical_dtype(vector):\n",
      "/opt/conda/lib/python3.11/site-packages/seaborn/categorical.py:641: FutureWarning: The default of observed=False is deprecated and will be changed to True in a future version of pandas. Pass observed=False to retain current behavior or observed=True to adopt the future default and silence this warning.\n",
      "  grouped_vals = vals.groupby(grouper)\n",
      "/opt/conda/lib/python3.11/site-packages/seaborn/_oldcore.py:1498: FutureWarning: is_categorical_dtype is deprecated and will be removed in a future version. Use isinstance(dtype, CategoricalDtype) instead\n",
      "  if pd.api.types.is_categorical_dtype(vector):\n",
      "/opt/conda/lib/python3.11/site-packages/seaborn/categorical.py:641: FutureWarning: The default of observed=False is deprecated and will be changed to True in a future version of pandas. Pass observed=False to retain current behavior or observed=True to adopt the future default and silence this warning.\n",
      "  grouped_vals = vals.groupby(grouper)\n"
     ]
    },
    {
     "data": {
      "image/png": "[encoded data removed]",
      "text/plain": [
       "<Figure size 1200x1000 with 2 Axes>"
      ]
     },
     "metadata": {},
     "output_type": "display_data"
    }
   ],
   "source": [
    "import matplotlib.pyplot as plt\n",
    "import seaborn as sns\n",
    "\n",
    "# Set the style\n",
    "sns.set_style(\"whitegrid\")\n",
    "\n",
    "fig, ax = plt.subplots(nrows=2, ncols=1, figsize=(12, 10))\n",
    "\n",
    "# Box plot for Price against Number\n",
    "sns.boxplot(x='Number', y='Price', data=nyop_data, hue='Condition', ax=ax[0])\n",
    "ax[0].set_title('Boxplot of Price vs. Number of Photos Purchased')\n",
    "ax[0].set_ylabel('Price')\n",
    "ax[0].set_xlabel('Number of Photos Purchased')\n",
    "\n",
    "# Box plot for UnitPrice against Number\n",
    "sns.boxplot(x='Number', y='UnitPrice', data=nyop_data, hue='Condition', ax=ax[1])\n",
    "ax[1].set_title('Boxplot of Unit Price vs. Number of Photos Purchased')\n",
    "ax[1].set_ylabel('Unit Price')\n",
    "ax[1].set_xlabel('Number of Photos Purchased')\n",
    "\n",
    "plt.tight_layout()\n",
    "plt.show()\n"
   ]
  },
  {
   "cell_type": "code",
   "execution_count": 47,
   "metadata": {},
   "outputs": [
    {
     "name": "stderr",
     "output_type": "stream",
     "text": [
      "/opt/conda/lib/python3.11/site-packages/seaborn/_oldcore.py:1498: FutureWarning: is_categorical_dtype is deprecated and will be removed in a future version. Use isinstance(dtype, CategoricalDtype) instead\n",
      "  if pd.api.types.is_categorical_dtype(vector):\n",
      "/opt/conda/lib/python3.11/site-packages/seaborn/categorical.py:641: FutureWarning: The default of observed=False is deprecated and will be changed to True in a future version of pandas. Pass observed=False to retain current behavior or observed=True to adopt the future default and silence this warning.\n",
      "  grouped_vals = vals.groupby(grouper)\n",
      "/opt/conda/lib/python3.11/site-packages/seaborn/_oldcore.py:1498: FutureWarning: is_categorical_dtype is deprecated and will be removed in a future version. Use isinstance(dtype, CategoricalDtype) instead\n",
      "  if pd.api.types.is_categorical_dtype(vector):\n",
      "/opt/conda/lib/python3.11/site-packages/seaborn/categorical.py:641: FutureWarning: The default of observed=False is deprecated and will be changed to True in a future version of pandas. Pass observed=False to retain current behavior or observed=True to adopt the future default and silence this warning.\n",
      "  grouped_vals = vals.groupby(grouper)\n"
     ]
    },
    {
     "data": {
      "image/png": "[encoded data removed]",
      "text/plain": [
       "<Figure size 1500x600 with 2 Axes>"
      ]
     },
     "metadata": {},
     "output_type": "display_data"
    }
   ],
   "source": [
    "import matplotlib.pyplot as plt\n",
    "import seaborn as sns\n",
    "\n",
    "# Set the style and size of the plots\n",
    "sns.set_style(\"whitegrid\")\n",
    "plt.figure(figsize=(15, 6))\n",
    "\n",
    "# Boxplot for Price against Number\n",
    "plt.subplot(1, 2, 1)\n",
    "sns.boxplot(x='Number', y='Price', data=nyop_data)\n",
    "plt.title('Boxplot of Price against Number')\n",
    "\n",
    "# Boxplot for UnitPrice against Number\n",
    "plt.subplot(1, 2, 2)\n",
    "sns.boxplot(x='Number', y='UnitPrice', data=nyop_data)\n",
    "plt.title('Boxplot of UnitPrice against Number')\n",
    "\n",
    "plt.tight_layout()\n",
    "plt.show()\n"
   ]
  },
  {
   "cell_type": "markdown",
   "metadata": {},
   "source": [
    "Interpretation of Boxplots:\n",
    "\n",
    "Boxplot of Price against Number:\n",
    "\n",
    "The median price seems to generally increase as the number of photos purchased increases. However, the variability also increases with the number of photos.\n",
    "For purchases of a single photo, there are many outliers below the lower quartile, indicating a lot of riders opted for very low prices.\n",
    "For larger quantities, such as 6 photos, the variability in prices is quite high, suggesting a wide range of prices people were willing to pay.\n",
    "Boxplot of UnitPrice against Number:\n",
    "\n",
    "The median unit price remains relatively stable across different quantities, although there's a slight upward trend.\n",
    "The spread (interquartile range) of unit prices seems relatively consistent across quantities, although there are many outliers, especially for single photo purchases.\n",
    "A significant number of riders opted for very low unit prices, especially when buying a single photo.\n",
    "In summary, while the total price increases with the number of photos, the unit price (price per photo) remains relatively consistent, though there's a wide variety of prices riders were willing to pay, especially when purchasing just one photo."
   ]
  },
  {
   "cell_type": "markdown",
   "metadata": {},
   "source": []
  },
  {
   "cell_type": "markdown",
   "metadata": {},
   "source": [
    "c. Determine the average unit purchase price for both the NYOP and the NYOP Charity conditions. Does the difference seem small or substantial? Formulate a statistical test to determine if these two average unit prices are different.\n",
    "\n",
    "We'll start by calculating the average unit purchase price for both conditions."
   ]
  },
  {
   "cell_type": "code",
   "execution_count": 48,
   "metadata": {},
   "outputs": [
    {
     "data": {
      "text/plain": [
       "(1.0404387568555757, 5.6804804392587505)"
      ]
     },
     "execution_count": 48,
     "metadata": {},
     "output_type": "execute_result"
    }
   ],
   "source": [
    "# Calculate the average unit purchase price for both the NYOP and NYOP Charity conditions\n",
    "avg_unit_price_nyop = nyop_data[nyop_data['Condition'] == 'NYOP']['UnitPrice'].mean()\n",
    "avg_unit_price_nyop_charity = nyop_data[nyop_data['Condition'] == 'NYOP Charity']['UnitPrice'].mean()\n",
    "\n",
    "avg_unit_price_nyop, avg_unit_price_nyop_charity\n"
   ]
  },
  {
   "cell_type": "markdown",
   "metadata": {},
   "source": [
    "The average unit purchase prices for the two NYOP pricing conditions are:\n",
    "\n",
    "For the NYOP condition: Approximately $1.04\n",
    "For the NYOP Charity condition: Approximately $5.68\n",
    "The difference between these average unit prices seems substantial. The average unit price for the NYOP Charity condition is notably higher than that of the NYOP condition.\n",
    "\n",
    "To determine if these two average unit prices are statistically different, we can conduct a two-sample t-test."
   ]
  },
  {
   "cell_type": "markdown",
   "metadata": {},
   "source": []
  },
  {
   "cell_type": "markdown",
   "metadata": {},
   "source": [
    "d. What are your null and alternative hypotheses?\n",
    "\n"
   ]
  },
  {
   "cell_type": "markdown",
   "metadata": {},
   "source": [
    "The null and alternative hypotheses for comparing the average unit prices between the two NYOP pricing conditions are as follows:\n",
    "H0: μ1 = μ2 (The average unit prices for NYOP and NYOP Charity are the same)\n",
    "Ha: μ1≠ μ2 (The average unit prices for NYOP and NYOP Charity are different)\n",
    "Where μ1 represents the average unit price for the NYOP condition and μ2 represents the average unit price for the NYOP Charity condition."
   ]
  },
  {
   "cell_type": "markdown",
   "metadata": {},
   "source": []
  },
  {
   "cell_type": "markdown",
   "metadata": {},
   "source": [
    "e. Use the pyrsm library to perform the test computation (Compare means). What can you conclude? What is the likelihood you have made either a Type I or Type II error based on your conclusion?"
   ]
  },
  {
   "cell_type": "code",
   "execution_count": 49,
   "metadata": {},
   "outputs": [
    {
     "name": "stdout",
     "output_type": "stream",
     "text": [
      "Pairwise mean comparisons (t-test)\n",
      "Data      : picture_prices\n",
      "Variables : Condition, UnitPrice\n",
      "Samples   : independent\n",
      "Confidence: 0.95\n",
      "Adjustment: None\n",
      "   Condition  mean    n  n_missing    sd    se    me\n",
      "        NYOP  1.04 1641          0 1.305 0.032 0.063\n",
      "NYOP Charity  5.68 1457          0 4.670 0.122 0.240\n",
      "          Null hyp.                      Alt. hyp.  diff p.value    se  t.value       df   2.5%  97.5%    \n",
      "NYOP = NYOP Charity NYOP not equal to NYOP Charity -4.64  < .001 0.127  -36.676 1657.943 -4.888 -4.392 ***\n"
     ]
    }
   ],
   "source": [
    "from scipy.stats import ttest_ind\n",
    "import pyrsm as rsm\n",
    "# Separate the data for the two conditions\n",
    "# nyop_unit_prices = nyop_data[nyop_data['Condition'] == 'NYOP']['UnitPrice']\n",
    "# nyop_charity_unit_prices = nyop_data[nyop_data['Condition'] == 'NYOP Charity']['UnitPrice']\n",
    "\n",
    "# # Perform the two-sample t-test\n",
    "# t_stat, p_val = ttest_ind(nyop_unit_prices, nyop_charity_unit_prices, equal_var=False)\n",
    "\n",
    "# t_stat, p_val\n",
    "\n",
    "Ho = 'The NYOP and NYOP charity means are equal'\n",
    "H1 = 'The NYOP and NYOP charity means are different from each other'\n",
    "from scipy import stats\n",
    "\n",
    "#t_stat, p_value = stats.ttest_ind(filtered_rows['Price'], filtered_rows_for_charity['Price'], equal_var=)\n",
    "cm = rsm.basics.compare_means({\"picture_prices\": nyop_data}, var1 = \"Condition\", \n",
    "                              var2 = \"UnitPrice\", alt_hyp = \"two-sided\")\n",
    "cm.summary(extra=True)\n"
   ]
  },
  {
   "cell_type": "markdown",
   "metadata": {},
   "source": [
    "The results of the two-sample t-test for the average unit prices between the NYOP and NYOP Charity conditions are:\n",
    "\n",
    "Test statistic: t≈−36.68\n",
    "p-value: ≈3.95×10^(−216)\n",
    " \n",
    "Given that the p-value is extremely close to zero (far less than the typical significance level of α=0.05), we reject the null hypothesis (H0). This means that there is a statistically significant difference between the average unit prices for the NYOP and NYOP Charity conditions.\n",
    "\n",
    "Conclusion:\n",
    "The average unit price for the NYOP Charity condition is significantly different (and higher) than that of the NYOP condition.\n",
    "\n",
    "Regarding the likelihood of errors:\n",
    "\n",
    "Type I error: This is the probability of rejecting the null hypothesis when it is actually true. Given our extremely low p-value, the chance of committing a Type I error (often denoted as α) is very low.\n",
    "\n",
    "Type II error: This is the probability of failing to reject the null hypothesis when it is actually false. Since we rejected the null hypothesis, the risk of a Type II error is not applicable in this context.\n",
    "\n",
    "As a result, based on our conclusion, the likelihood of having made a Type I error is very low, and there is no risk of a Type II error."
   ]
  },
  {
   "cell_type": "markdown",
   "metadata": {},
   "source": []
  },
  {
   "cell_type": "markdown",
   "metadata": {},
   "source": [
    "f. Use filtering to investigate the difference in means for people that purchased 1 picture. Similarly, do the analysis for the group that purchased 6 pictures. Discuss your observations.\n",
    "\n",
    "We'll start by analyzing the group that purchased 1 picture."
   ]
  },
  {
   "cell_type": "code",
   "execution_count": 50,
   "metadata": {},
   "outputs": [
    {
     "data": {
      "text/plain": [
       "((-32.7550231572129, 1.0349726619595654e-175),\n",
       " (-1.3830917803702296, 0.2884114566627224))"
      ]
     },
     "execution_count": 50,
     "metadata": {},
     "output_type": "execute_result"
    }
   ],
   "source": [
    "# Filter the data for riders who purchased 1 picture and perform the t-test\n",
    "nyop_1pic = nyop_data[(nyop_data['Number'] == 1) & (nyop_data['Condition'] == 'NYOP')]['UnitPrice']\n",
    "nyop_charity_1pic = nyop_data[(nyop_data['Number'] == 1) & (nyop_data['Condition'] == 'NYOP Charity')]['UnitPrice']\n",
    "\n",
    "t_stat_1pic, p_val_1pic = ttest_ind(nyop_1pic, nyop_charity_1pic, equal_var=False)\n",
    "\n",
    "# Filter the data for riders who purchased 6 pictures and perform the t-test\n",
    "nyop_6pic = nyop_data[(nyop_data['Number'] == 6) & (nyop_data['Condition'] == 'NYOP')]['UnitPrice']\n",
    "nyop_charity_6pic = nyop_data[(nyop_data['Number'] == 6) & (nyop_data['Condition'] == 'NYOP Charity')]['UnitPrice']\n",
    "\n",
    "t_stat_6pic, p_val_6pic = ttest_ind(nyop_6pic, nyop_charity_6pic, equal_var=False)\n",
    "\n",
    "(t_stat_1pic, p_val_1pic), (t_stat_6pic, p_val_6pic)\n"
   ]
  },
  {
   "cell_type": "markdown",
   "metadata": {},
   "source": [
    "Here are the results from the t-tests for the groups that purchased 1 picture and 6 pictures:\n",
    "\n",
    "1. For the group that purchased 1 picture:\n",
    "\n",
    "Test statistic: t≈−32.76\n",
    "p-value: ≈1.03×10^(−175)\n",
    " \n",
    "2. For the group that purchased 6 pictures:\n",
    "\n",
    "Test statistic: t≈−1.38\n",
    "p-value: ≈0.2884\n",
    "\n",
    "\n",
    "Observations:\n",
    "\n",
    "(I). 1 Picture Group: There is a statistically significant difference in the average unit prices between the NYOP and NYOP Charity conditions for riders who purchased only 1 picture. The extremely low p-value indicates that the difference is not due to random chance.\n",
    "\n",
    "(II). 6 Pictures Group: For riders who purchased 6 pictures, the p-value is greater than the typical significance level of α=0.05. This means that we do not have sufficient evidence to claim a significant difference in the average unit prices between the NYOP and NYOP Charity conditions for this group.\n",
    "\n",
    "As a result, while there's a substantial difference in the average unit prices between the two conditions for riders who bought 1 picture, the same can't be said for those who bought 6 pictures."
   ]
  },
  {
   "cell_type": "markdown",
   "metadata": {},
   "source": []
  },
  {
   "cell_type": "markdown",
   "metadata": {},
   "source": [
    "g. If you do the analysis by hand for the group that purchased 6 pictures, are your results the same as those produced above? Why or Why not?\n",
    "\n",
    "To verify this, we can manually compute the t-test for the group that purchased 6 pictures using the formula:\n",
    "\n",
    "t = \\frac{{\\bar{X}_1 - \\bar{X}_2}}{{\\sqrt{\\frac{{s_1^2}}{{n_1}} + \\frac{{s_2^2}}{{n_2}}}}\n",
    "\n",
    "Where:\n",
    "\n",
    "X1bar and X2bar are the sample means of the two groups.\n",
    "\n",
    "s1^2 and s2^2 are the sample variances of the two groups.\n",
    "\n",
    "n1 and n2 are the sample sizes of the two groups.\n",
    "\n",
    "Let's compute the t-statistic manually and compare it to the result obtained above."
   ]
  },
  {
   "cell_type": "code",
   "execution_count": 51,
   "metadata": {},
   "outputs": [
    {
     "data": {
      "text/plain": [
       "-1.3830917803702296"
      ]
     },
     "execution_count": 51,
     "metadata": {},
     "output_type": "execute_result"
    }
   ],
   "source": [
    "# Compute the sample means, variances, and sizes for the two groups (6 pictures)\n",
    "mean_nyop_6pic = nyop_6pic.mean()\n",
    "mean_nyop_charity_6pic = nyop_charity_6pic.mean()\n",
    "\n",
    "var_nyop_6pic = nyop_6pic.var()\n",
    "var_nyop_charity_6pic = nyop_charity_6pic.var()\n",
    "\n",
    "n_nyop_6pic = len(nyop_6pic)\n",
    "n_nyop_charity_6pic = len(nyop_charity_6pic)\n",
    "\n",
    "# Compute the t-statistic manually\n",
    "t_stat_manual = (mean_nyop_6pic - mean_nyop_charity_6pic) / math.sqrt((var_nyop_6pic / n_nyop_6pic) + (var_nyop_charity_6pic / n_nyop_charity_6pic))\n",
    "\n",
    "t_stat_manual\n"
   ]
  },
  {
   "cell_type": "markdown",
   "metadata": {},
   "source": [
    "The manually computed t-statistic for the group that purchased 6 pictures is approximately t≈−1.38.\n",
    "\n",
    "This result is consistent with the t-statistic obtained from the two-sample t-test function earlier (t≈−1.38). The values match precisely.\n",
    "\n",
    "The reason the results are the same is that the manual computation and the two-sample t-test function essentially use the same formula to calculate the t-statistic, given that we assume unequal variances (hence using the Welch's t-test). The consistency of the results validates the correctness and reliability of the built-in function. If we had not specified that the variances are unequal we would have gotten a different result in both cases."
   ]
  },
  {
   "cell_type": "markdown",
   "metadata": {},
   "source": []
  },
  {
   "cell_type": "markdown",
   "metadata": {},
   "source": [
    "Economics"
   ]
  },
  {
   "cell_type": "markdown",
   "metadata": {},
   "source": [
    "a. The unit cost of making a photo is $1.20. Compute the average daily profit under each of the four pricing strategies.\n",
    "\n",
    "To compute the average daily profit for each pricing strategy, we need to:\n",
    "\n",
    "Calculate the total revenue for each strategy (from the sales data).\n",
    "Subtract the total cost from the total revenue. The total cost is \n",
    "NumberSold\n",
    "×\n",
    "$\n",
    "1.20\n",
    "NumberSold×$1.20.\n",
    "Divide the profit by the number of days each strategy was implemented to get the average daily profit."
   ]
  },
  {
   "cell_type": "code",
   "execution_count": 52,
   "metadata": {},
   "outputs": [
    {
     "name": "stdout",
     "output_type": "stream",
     "text": [
      "Condition\n",
      "FR            822.50\n",
      "FR Charity    474.75\n",
      "Name: Profit, dtype: float64\n",
      "Condition\n",
      "NYOP           -334.100000\n",
      "NYOP Charity    885.518333\n",
      "Name: Profit, dtype: float64\n"
     ]
    },
    {
     "name": "stderr",
     "output_type": "stream",
     "text": [
      "/tmp/ipykernel_2377586/2184070917.py:19: FutureWarning: Setting an item of incompatible dtype is deprecated and will raise in a future error of pandas. Value '[904.75 740.25]' has dtype incompatible with int64, please explicitly cast to a compatible dtype first.\n",
      "  sales_df.loc[sales_df['Condition'] == 'FR', 'Profit'] = (sales_df['NumberSold'] * flat_rate_price) - (sales_df['NumberSold'] * unit_cost)\n"
     ]
    }
   ],
   "source": [
    "# # Calculate the total cost for each strategy\n",
    "# sales_data['TotalCost'] = sales_data['NumberSold'] * 1.20\n",
    "\n",
    "# # Calculate the profit for each strategy\n",
    "# sales_data['Profit'] = sales_data['MerchandiseRevenues'] - sales_data['TotalCost']\n",
    "\n",
    "# # Calculate the average daily profit for each strategy\n",
    "# average_daily_profit = sales_data.groupby('Condition')['Profit'].mean()\n",
    "\n",
    "# average_daily_profit\n",
    "\n",
    "sales_df = sales_data \n",
    "# Constants\n",
    "unit_cost = 1.20\n",
    "flat_rate_price = 12.95\n",
    "\n",
    "# Calculate profit for FR and FR Charity\n",
    "sales_df['Profit'] = 0\n",
    "sales_df.loc[sales_df['Condition'] == 'FR', 'Profit'] = (sales_df['NumberSold'] * flat_rate_price) - (sales_df['NumberSold'] * unit_cost)\n",
    "sales_df.loc[sales_df['Condition'] == 'FR Charity', 'Profit'] = 0.5 * (sales_df['NumberSold'] * flat_rate_price) - (sales_df['NumberSold'] * unit_cost)\n",
    "\n",
    "# Calculate average daily profit for FR and FR Charity\n",
    "average_daily_profit = sales_df.groupby('Condition')['Profit'].mean()\n",
    "\n",
    "# Display average daily profit for FR and FR Charity\n",
    "print(average_daily_profit[['FR', 'FR Charity']])\n",
    "\n",
    "\n",
    "\n",
    "# Load the NYOP.csv file\n",
    "nyop_df = pd.read_csv(\"NYOP.csv\")\n",
    "\n",
    "# Calculate the total revenue and total photos sold for each condition in NYOP.csv\n",
    "nyop_grouped = nyop_df.groupby('Condition').agg({'Price': 'sum', 'Number': 'sum'}).reset_index()\n",
    "\n",
    "# Calculate the average price per photo for NYOP and NYOP Charity conditions\n",
    "nyop_grouped['AvgPrice'] = nyop_grouped['Price'] / nyop_grouped['Number']\n",
    "\n",
    "# Merge this data with the sales_df to compute profit\n",
    "sales_df = sales_df.merge(nyop_grouped[['Condition', 'AvgPrice']], on='Condition', how='left')\n",
    "\n",
    "# Calculate profit for NYOP and NYOP Charity\n",
    "sales_df.loc[sales_df['Condition'] == 'NYOP', 'Profit'] = (sales_df['NumberSold'] * sales_df['AvgPrice']) - (sales_df['NumberSold'] * unit_cost)\n",
    "sales_df.loc[sales_df['Condition'] == 'NYOP Charity', 'Profit'] = 0.5 * (sales_df['NumberSold'] * sales_df['AvgPrice']) - (sales_df['NumberSold'] * unit_cost)\n",
    "\n",
    "# Recalculate average daily profit for all conditions\n",
    "average_daily_profit = sales_df.groupby('Condition')['Profit'].mean()\n",
    "\n",
    "# Display average daily profit for NYOP and NYOP Charity\n",
    "print(average_daily_profit[['NYOP', 'NYOP Charity']])\n",
    "\n",
    "\n"
   ]
  },
  {
   "cell_type": "markdown",
   "metadata": {},
   "source": [
    "FR (Flat Rate): 822.5\n",
    "\n",
    "FR Charity (Flat Rate with Charity): 474.75\n",
    "\n",
    "NYOP (Name Your Own Price): -334.1\n",
    "\n",
    "NYOP Charity (Name Your Own Price with Charity):885.518"
   ]
  },
  {
   "cell_type": "markdown",
   "metadata": {},
   "source": []
  },
  {
   "cell_type": "markdown",
   "metadata": {},
   "source": [
    "b. Which strategy is the most profitable? What is the ranking of the strategies in terms of profits?\n",
    "\n",
    "Based on the calculated average daily profits:\n",
    "\n",
    "NYOP Charity: $885.52\n",
    "FR (Flat Rate Pricing): $822.50\n",
    "FR Charity: $474.75\n",
    "NYOP (Name Your Own Price): -$334.10 (a loss)"
   ]
  },
  {
   "cell_type": "markdown",
   "metadata": {},
   "source": []
  },
  {
   "cell_type": "markdown",
   "metadata": {},
   "source": [
    "c. Now think about the additional value created by the FR Charity and NYOP Charity conditions. Rather than focusing only on profits to the theme park, let’s talk about total profits to society which should include both the theme park and the charity that benefits. What is the ranking of societal profits in this case?\n",
    "\n",
    "To compute the societal profits for the charity-related strategies, we should consider the revenue that goes to the charity:\n",
    "\n",
    "FR Charity: 50% of the revenue goes to charity.\n",
    "NYOP Charity: 50% of the revenue goes to charity.\n",
    "We'll compute the total societal profit (theme park profit + charity revenue) for each strategy and then rank them."
   ]
  },
  {
   "cell_type": "code",
   "execution_count": 53,
   "metadata": {},
   "outputs": [
    {
     "data": {
      "text/plain": [
       "Condition\n",
       "NYOP Charity    2488.236667\n",
       "FR Charity      1057.500000\n",
       "FR               822.500000\n",
       "NYOP            -334.100000\n",
       "Name: SocietalProfit, dtype: float64"
      ]
     },
     "execution_count": 53,
     "metadata": {},
     "output_type": "execute_result"
    }
   ],
   "source": [
    "# # Calculate the revenue that goes to charity for each strategy\n",
    "# sales_data['CharityRevenue'] = sales_data['MerchandiseRevenues'] * 0.50 * sales_data['Condition'].isin(['FR Charity', 'NYOP Charity'])\n",
    "\n",
    "# # Calculate the societal profit for each strategy\n",
    "# sales_data['SocietalProfit'] = sales_data['Profit'] + sales_data['CharityRevenue']\n",
    "\n",
    "# # Calculate the average daily societal profit for each strategy\n",
    "# average_daily_societal_profit = sales_data.groupby('Condition')['SocietalProfit'].mean()\n",
    "\n",
    "# # Rank the strategies based on average daily societal profit\n",
    "# societal_profit_ranking = average_daily_societal_profit.sort_values(ascending=False)\n",
    "\n",
    "# societal_profit_ranking\n",
    "\n",
    "\n",
    "# Calculate societal profit\n",
    "sales_df['SocietalProfit'] = sales_df['Profit']\n",
    "\n",
    "# Add the 50% of revenues for charity conditions to the societal profit\n",
    "sales_df.loc[sales_df['Condition'] == 'FR Charity', 'SocietalProfit'] += 0.5 * sales_df['NumberSold'] * flat_rate_price\n",
    "sales_df.loc[sales_df['Condition'] == 'NYOP Charity', 'SocietalProfit'] += 0.5 * (sales_df['NumberSold'] * sales_df['AvgPrice'])\n",
    "\n",
    "# Calculate average daily societal profit for all conditions\n",
    "average_daily_societal_profit = sales_df.groupby('Condition')['SocietalProfit'].mean()\n",
    "\n",
    "# Rank the strategies in terms of average daily societal profits\n",
    "societal_ranking = average_daily_societal_profit.sort_values(ascending=False)\n",
    "\n",
    "# Display the societal ranking\n",
    "societal_ranking\n",
    "\n"
   ]
  },
  {
   "cell_type": "markdown",
   "metadata": {},
   "source": [
    "Considering the total societal profits (profits to the theme park + charity revenues):\n",
    "\n",
    "NYOP Charity: $2488.24 \n",
    "FR Charity: $1057.50 \n",
    "FR (Flat Rate Pricing): $822.50 \n",
    "NYOP (Name Your Own Price): -$334.10 (a loss) \n"
   ]
  },
  {
   "cell_type": "markdown",
   "metadata": {},
   "source": []
  },
  {
   "cell_type": "markdown",
   "metadata": {},
   "source": [
    "d. How much additional societal profit does the leading strategy generate over the others over the entire year (assume 365 days)?\n",
    "\n",
    "To calculate this, we'll take the difference between the societal profit of the leading strategy (NYOP Charity) and each of the other strategies and then multiply by 365 days."
   ]
  },
  {
   "cell_type": "code",
   "execution_count": 54,
   "metadata": {},
   "outputs": [
    {
     "data": {
      "text/plain": [
       "Condition\n",
       "NYOP Charity    0.000000e+00\n",
       "FR Charity      5.222189e+05\n",
       "FR              6.079939e+05\n",
       "NYOP            1.030153e+06\n",
       "Name: SocietalProfit, dtype: float64"
      ]
     },
     "execution_count": 54,
     "metadata": {},
     "output_type": "execute_result"
    }
   ],
   "source": [
    "# Calculate the additional societal profit generated by the leading strategy over the others for an entire year\n",
    "yearly_additional_profit = (societal_ranking['NYOP Charity'] - societal_ranking) * 365\n",
    "\n",
    "# Display the yearly additional profit\n",
    "yearly_additional_profit\n"
   ]
  },
  {
   "cell_type": "markdown",
   "metadata": {},
   "source": [
    "The additional societal profit that the leading strategy (NYOP Charity) generates over the others throughout the year (assuming 365 days) is:\n",
    "\n",
    "Over FR Charity: Approximately $522,219\n",
    "Over FR (Flat Rate Pricing): Approximately $607,994\n",
    "Over NYOP (Name Your Own Price): Approximately $1,030,153"
   ]
  },
  {
   "cell_type": "markdown",
   "metadata": {},
   "source": []
  },
  {
   "cell_type": "markdown",
   "metadata": {},
   "source": [
    "e. Are merchandise sales a concern?\n",
    "\n",
    "To address this question, we need to look at the merchandise revenues under each of the four pricing strategies from the \"Sales.csv\" dataset. By comparing and analyzing the merchandise revenues, we can gauge if there are any notable differences or concerns related to merchandise sales across the strategies. Let's visualize the average daily merchandise revenues for each pricing strategy."
   ]
  },
  {
   "cell_type": "code",
   "execution_count": 55,
   "metadata": {},
   "outputs": [
    {
     "name": "stdout",
     "output_type": "stream",
     "text": [
      "Condition\n",
      "FR              5640.49\n",
      "FR Charity      6161.36\n",
      "NYOP            5941.95\n",
      "NYOP Charity    6750.50\n",
      "Name: MerchandiseRevenues, dtype: float64\n"
     ]
    },
    {
     "data": {
      "image/png": "[encoded data removed]",
      "text/plain": [
       "<Figure size 1000x600 with 1 Axes>"
      ]
     },
     "metadata": {},
     "output_type": "display_data"
    }
   ],
   "source": [
    "# Calculate the average daily merchandise revenues for each strategy\n",
    "# Calculate average merchandise revenues for each condition\n",
    "average_merchandise_sales = sales_df.groupby('Condition')['MerchandiseRevenues'].mean()\n",
    "\n",
    "# Display the average merchandise sales for each condition\n",
    "print(average_merchandise_sales)\n",
    "\n",
    "\n",
    "# Plot the average daily merchandise revenues\n",
    "plt.figure(figsize=(10, 6))\n",
    "average_merchandise_sales.sort_values().plot(kind='barh', color='skyblue')\n",
    "plt.title('Average Daily Merchandise Revenues by Pricing Strategy')\n",
    "plt.xlabel('Average Daily Revenue ($)')\n",
    "plt.ylabel('Pricing Strategy')\n",
    "plt.show()\n"
   ]
  },
  {
   "cell_type": "markdown",
   "metadata": {},
   "source": [
    "The NYOP Charity condition has the highest average merchandise sales.\n",
    "The FR condition has the lowest average merchandise sales, but the difference isn't significantly lower than the other strategies.\n",
    "Based on these observations, it doesn't appear that merchandise sales are a major concern across the different pricing strategies. Each strategy seems to maintain relatively consistent merchandise sales, with NYOP Charity even having a slight advantage."
   ]
  },
  {
   "cell_type": "markdown",
   "metadata": {},
   "source": [
    "Interpretation & Conclusion:\n",
    "\n",
    "The NYOP Charity strategy is the most beneficial for both the amusement park and society. It maximizes park profit and societal contributions. NYOP, without charity, isn't sustainable. The charitable aspect seems to incentivize higher payments by riders. For consistent revenue and societal impact, NYOP Charity is the recommended choice."
   ]
  }
 ],
 "metadata": {
  "kernelspec": {
   "display_name": "base",
   "language": "python",
   "name": "python3"
  },
  "language_info": {
   "codemirror_mode": {
    "name": "ipython",
    "version": 3
   },
   "file_extension": ".py",
   "mimetype": "text/x-python",
   "name": "python",
   "nbconvert_exporter": "python",
   "pygments_lexer": "ipython3",
   "version": "3.11.5"
  }
 },
 "nbformat": 4,
 "nbformat_minor": 2
}
